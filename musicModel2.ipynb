{
 "cells": [
  {
   "cell_type": "code",
   "execution_count": 4,
   "id": "5ef73753",
   "metadata": {},
   "outputs": [],
   "source": [
    "import pandas as pd\n",
    "from sklearn.tree import DecisionTreeClassifier\n",
    "#from sklearn.externals import joblib\n",
    "import joblib\n",
    "data=pd.read_csv('music.csv')\n",
    "input_data=data.drop(columns=['genre'])\n",
    "output_data=data['genre']\n"
   ]
  },
  {
   "cell_type": "code",
   "execution_count": 5,
   "id": "44986d06",
   "metadata": {},
   "outputs": [
    {
     "data": {
      "text/plain": [
       "DecisionTreeClassifier()"
      ]
     },
     "execution_count": 5,
     "metadata": {},
     "output_type": "execute_result"
    }
   ],
   "source": [
    "model=DecisionTreeClassifier()\n",
    "model.fit(input_data,output_data)\n"
   ]
  },
  {
   "cell_type": "code",
   "execution_count": 6,
   "id": "043eb259",
   "metadata": {},
   "outputs": [
    {
     "data": {
      "text/plain": [
       "['musicModel.joblib']"
      ]
     },
     "execution_count": 6,
     "metadata": {},
     "output_type": "execute_result"
    }
   ],
   "source": [
    "joblib.dump(model,'musicModel.joblib')"
   ]
  },
  {
   "cell_type": "code",
   "execution_count": 9,
   "id": "4d7048ff",
   "metadata": {},
   "outputs": [
    {
     "name": "stderr",
     "output_type": "stream",
     "text": [
      "D:\\anaconda3\\lib\\site-packages\\sklearn\\base.py:450: UserWarning: X does not have valid feature names, but DecisionTreeClassifier was fitted with feature names\n",
      "  warnings.warn(\n"
     ]
    },
    {
     "data": {
      "text/plain": [
       "array(['Classical'], dtype=object)"
      ]
     },
     "execution_count": 9,
     "metadata": {},
     "output_type": "execute_result"
    }
   ],
   "source": [
    "joblib.load('musicModel.joblib')\n",
    "model.predict([[33,0]])"
   ]
  },
  {
   "cell_type": "code",
   "execution_count": 13,
   "id": "9ea6494f",
   "metadata": {},
   "outputs": [],
   "source": [
    "import pandas as pd\n",
    "from sklearn.tree import DecisionTreeClassifier\n",
    "from sklearn import tree\n",
    "data=pd.read_csv('music.csv')\n",
    "input_data=data.drop(columns=['genre'])\n",
    "output_data=data['genre']\n",
    "model=DecisionTreeClassifier()\n",
    "model.fit(input_data,output_data)\n",
    "\n",
    "tree.export_graphviz(model,feature_names=['age','gender'],class_names=sorted(output_data.unique()),\n",
    "                    label='all',\n",
    "                    rounded=True,\n",
    "                    filled=True,\n",
    "                    out_file='musicModelDrawing.dot'\n",
    "                    )"
   ]
  },
  {
   "cell_type": "code",
   "execution_count": null,
   "id": "36dcb191",
   "metadata": {},
   "outputs": [],
   "source": []
  }
 ],
 "metadata": {
  "kernelspec": {
   "display_name": "Python 3 (ipykernel)",
   "language": "python",
   "name": "python3"
  },
  "language_info": {
   "codemirror_mode": {
    "name": "ipython",
    "version": 3
   },
   "file_extension": ".py",
   "mimetype": "text/x-python",
   "name": "python",
   "nbconvert_exporter": "python",
   "pygments_lexer": "ipython3",
   "version": "3.9.12"
  }
 },
 "nbformat": 4,
 "nbformat_minor": 5
}
